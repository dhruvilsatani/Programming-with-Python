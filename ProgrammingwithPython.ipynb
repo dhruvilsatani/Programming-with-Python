{
 "cells": [
  {
   "cell_type": "markdown",
   "metadata": {
    "id": "hkdUqWjLNb-g"
   },
   "source": [
    "## Importing libraries"
   ]
  },
  {
   "cell_type": "code",
   "execution_count": 1,
   "metadata": {
    "id": "tC1vqhUtNL4e"
   },
   "outputs": [],
   "source": [
    "import pandas as pd\n",
    "import numpy as np\n",
    "from sqlalchemy import create_engine, Table, Column, Float, Integer, MetaData\n",
    "import matplotlib.pyplot as plt\n",
    "from bokeh.plotting import figure, show"
   ]
  },
  {
   "cell_type": "markdown",
   "metadata": {
    "id": "6D0YRfh7N0e1"
   },
   "source": [
    "##Loading data"
   ]
  },
  {
   "cell_type": "code",
   "execution_count": 2,
   "metadata": {
    "colab": {
     "base_uri": "https://localhost:8080/"
    },
    "id": "mwL4A6cyN-Jm",
    "outputId": "e0b51d4e-a3bc-4438-9fd0-930482264c03"
   },
   "outputs": [
    {
     "name": "stdout",
     "output_type": "stream",
     "text": [
      "Ideal data: \n",
      "       x        y1        y2        y3        y4        y5        y6        y7  \\\n",
      "0 -20.0 -0.912945  0.408082  9.087055  5.408082 -9.087055  0.912945 -0.839071   \n",
      "1 -19.9 -0.867644  0.497186  9.132356  5.497186 -9.132356  0.867644 -0.865213   \n",
      "2 -19.8 -0.813674  0.581322  9.186326  5.581322 -9.186326  0.813674 -0.889191   \n",
      "3 -19.7 -0.751573  0.659649  9.248426  5.659649 -9.248426  0.751573 -0.910947   \n",
      "4 -19.6 -0.681964  0.731386  9.318036  5.731386 -9.318036  0.681964 -0.930426   \n",
      "\n",
      "         y8        y9  ...        y41        y42       y43       y44  \\\n",
      "0 -0.850919  0.816164  ... -40.456474  40.204040  2.995732 -0.008333   \n",
      "1  0.168518  0.994372  ... -40.233820  40.048590  2.990720 -0.008340   \n",
      "2  0.612391  1.162644  ... -40.006836  39.890660  2.985682 -0.008347   \n",
      "3 -0.994669  1.319299  ... -39.775787  39.729824  2.980619 -0.008354   \n",
      "4  0.774356  1.462772  ... -39.540980  39.565693  2.975530 -0.008361   \n",
      "\n",
      "         y45       y46       y47       y48       y49       y50  \n",
      "0  12.995732  5.298317 -5.298317 -0.186278  0.912945  0.396850  \n",
      "1  12.990720  5.293305 -5.293305 -0.215690  0.867644  0.476954  \n",
      "2  12.985682  5.288267 -5.288267 -0.236503  0.813674  0.549129  \n",
      "3  12.980619  5.283204 -5.283204 -0.247887  0.751573  0.612840  \n",
      "4  12.975530  5.278115 -5.278115 -0.249389  0.681964  0.667902  \n",
      "\n",
      "[5 rows x 51 columns]\n",
      "\n",
      " Test data: \n",
      "       x          y\n",
      "0  17.5  34.161040\n",
      "1   0.3   1.215102\n",
      "2  -8.7 -16.843908\n",
      "3 -19.2 -37.170870\n",
      "4 -11.0 -20.263054\n",
      "\n",
      " Train data: \n",
      "       x         y1         y2         y3        y4\n",
      "0 -20.0  39.778572 -40.078590 -20.214268 -0.324914\n",
      "1 -19.9  39.604813 -39.784000 -20.070950 -0.058820\n",
      "2 -19.8  40.099070 -40.018845 -19.906782 -0.451830\n",
      "3 -19.7  40.151100 -39.518402 -19.389118 -0.612044\n",
      "4 -19.6  39.795662 -39.360065 -19.815890 -0.306076\n"
     ]
    }
   ],
   "source": [
    "ideal_df = pd.read_csv('ideal.csv')\n",
    "test_df = pd.read_csv('test.csv')\n",
    "train_df = pd.read_csv('train.csv')\n",
    "\n",
    "print(\"Ideal data: \\n\", ideal_df.head())\n",
    "print(\"\\n Test data: \\n\", test_df.head())\n",
    "print(\"\\n Train data: \\n\", train_df.head())"
   ]
  },
  {
   "cell_type": "markdown",
   "metadata": {
    "id": "xGy-y9IaPTMA"
   },
   "source": [
    "##Loading files to database"
   ]
  },
  {
   "cell_type": "code",
   "execution_count": 3,
   "metadata": {
    "colab": {
     "base_uri": "https://localhost:8080/"
    },
    "id": "gGz4MxhwPV6N",
    "outputId": "1d9f6cab-8df2-404a-f626-dc1468b30103"
   },
   "outputs": [
    {
     "name": "stdout",
     "output_type": "stream",
     "text": [
      "Data successfully loaded into the database.\n"
     ]
    }
   ],
   "source": [
    "# Create a sqlite engine\n",
    "engine = create_engine('sqlite:///mydatabase.db', echo=False)\n",
    "\n",
    "# Load the dataframes into the database\n",
    "ideal_df.to_sql('ideal_table', con=engine, if_exists='replace', index=False)\n",
    "test_df.to_sql('test_table', con=engine, if_exists='replace', index=False)\n",
    "train_df.to_sql('train_table', con=engine, if_exists='replace', index=False)\n",
    "\n",
    "print(\"Data successfully loaded into the database.\")"
   ]
  },
  {
   "cell_type": "code",
   "execution_count": 4,
   "metadata": {
    "colab": {
     "base_uri": "https://localhost:8080/"
    },
    "id": "Yz1XfPrSUCSJ",
    "outputId": "0e509371-d552-429e-b08a-77aa968501f1"
   },
   "outputs": [
    {
     "name": "stdout",
     "output_type": "stream",
     "text": [
      "Tables in the database: [('ideal_table',), ('test_table',), ('train_table',)]\n",
      "Columns in 'train_table': [(0, 'x', 'FLOAT', 0, None, 0), (1, 'y1', 'FLOAT', 0, None, 0), (2, 'y2', 'FLOAT', 0, None, 0), (3, 'y3', 'FLOAT', 0, None, 0), (4, 'y4', 'FLOAT', 0, None, 0)]\n"
     ]
    }
   ],
   "source": [
    "import sqlite3\n",
    "\n",
    "# Connect to the SQLite database to list all tables\n",
    "conn = sqlite3.connect('mydatabase.db')\n",
    "cursor = conn.cursor()\n",
    "\n",
    "# Query all table names in the database\n",
    "cursor.execute(\"SELECT name FROM sqlite_master WHERE type='table';\")\n",
    "tables = cursor.fetchall()\n",
    "\n",
    "print(\"Tables in the database:\", tables)\n",
    "\n",
    "# Check if the 'train_table' exists\n",
    "cursor.execute(\"PRAGMA table_info(train_table);\")\n",
    "columns = cursor.fetchall()\n",
    "print(\"Columns in 'train_table':\", columns)\n",
    "\n",
    "# Close the connection\n",
    "conn.close()\n"
   ]
  },
  {
   "cell_type": "markdown",
   "metadata": {
    "id": "Ls2KSJnSPsTw"
   },
   "source": [
    "## Identifying best fitting ideal functions"
   ]
  },
  {
   "cell_type": "code",
   "execution_count": 5,
   "metadata": {
    "id": "tSRY19ZjULxn"
   },
   "outputs": [
    {
     "name": "stdout",
     "output_type": "stream",
     "text": [
      "\n",
      "   train_function ideal_function       mse\n",
      "0             y1            y42  0.085616\n",
      "1             y2            y41  0.089005\n",
      "2             y3            y11  0.074655\n",
      "3             y4            y48  0.079909\n"
     ]
    },
    {
     "name": "stderr",
     "output_type": "stream",
     "text": [
      "C:\\Users\\dhruv\\AppData\\Local\\Temp\\ipykernel_30728\\544162565.py:38: FutureWarning: The behavior of DataFrame concatenation with empty or all-NA entries is deprecated. In a future version, this will no longer exclude empty or all-NA columns when determining the result dtypes. To retain the old behavior, exclude the relevant entries before the concat operation.\n",
      "  best_fits = best_fits._append({\n"
     ]
    }
   ],
   "source": [
    "# Function to find the best fitting ideal functions for each training function\n",
    "def find_best_fit_ideal_functions(train_data, ideal_data):\n",
    "    \"\"\"\n",
    "    Finds the best fitting ideal function for each training function by calculating\n",
    "    the mean squared error between each training column and each ideal column.\n",
    "    \n",
    "    Args:\n",
    "        train_data (pd.DataFrame): Training data with columns 'x', 'y1', 'y2', etc.\n",
    "        ideal_data (pd.DataFrame): Ideal data with columns 'x', 'y1', 'y2', etc.\n",
    "        \n",
    "    Returns:\n",
    "        pd.DataFrame: A DataFrame mapping each training function to its best fitting ideal function.\n",
    "    \"\"\"\n",
    "    # Get the column names for y values in both datasets\n",
    "    train_y_cols = [col for col in train_data.columns if col.startswith('y')]\n",
    "    ideal_y_cols = [col for col in ideal_data.columns if col.startswith('y')]\n",
    "    \n",
    "    # Create a DataFrame to store the results\n",
    "    best_fits = pd.DataFrame(columns=['train_function', 'ideal_function', 'mse'])\n",
    "    \n",
    "    # For each training function, find the best fitting ideal function\n",
    "    for train_col in train_y_cols:\n",
    "        train_y = train_data[train_col].values\n",
    "        \n",
    "        # Calculate MSE for each ideal function\n",
    "        mse_values = []\n",
    "        for ideal_col in ideal_y_cols:\n",
    "            ideal_y = ideal_data[ideal_col].values\n",
    "            \n",
    "            # Calculate mean squared error\n",
    "            mse = np.mean((train_y - ideal_y) ** 2)\n",
    "            mse_values.append((ideal_col, mse))\n",
    "        \n",
    "        # Find the ideal function with the minimum MSE\n",
    "        best_ideal_col, min_mse = min(mse_values, key=lambda x: x[1])\n",
    "        \n",
    "        # Add to results DataFrame\n",
    "        best_fits = best_fits._append({\n",
    "            'train_function': train_col,\n",
    "            'ideal_function': best_ideal_col,\n",
    "            'mse': min_mse\n",
    "        }, ignore_index=True)\n",
    "    \n",
    "    return best_fits\n",
    "\n",
    "# Function to load data from SQLite database\n",
    "def load_data_from_db(db_url, table_name):\n",
    "    \"\"\"\n",
    "    Loads data from the SQLite database into a pandas DataFrame.\n",
    "\n",
    "    Args:\n",
    "        db_url (str): The URL for the SQLite database.\n",
    "        table_name (str): The table name to load.\n",
    "\n",
    "    Returns:\n",
    "        DataFrame: The loaded dataset.\n",
    "    \"\"\"\n",
    "    engine = create_engine(db_url)\n",
    "\n",
    "    # Verify if the table exists in the database before loading\n",
    "    query = f\"SELECT name FROM sqlite_master WHERE type='table' AND name='{table_name}';\"\n",
    "    result = pd.read_sql(query, engine)\n",
    "\n",
    "    if result.empty:\n",
    "        raise ValueError(f\"Table '{table_name}' not found in the database.\")\n",
    "\n",
    "    return pd.read_sql(f\"SELECT * FROM {table_name}\", engine)\n",
    "\n",
    "# Example usage:\n",
    "if __name__ == \"__main__\":\n",
    "    try:\n",
    "        # Load the training and ideal datasets\n",
    "        train_data = load_data_from_db(\"sqlite:///mydatabase.db\", \"train_table\")\n",
    "        ideal_data = load_data_from_db(\"sqlite:///mydatabase.db\", \"ideal_table\")\n",
    "\n",
    "        # Find the best fitting ideal functions for each training function\n",
    "        best_ideal_df = find_best_fit_ideal_functions(train_data, ideal_data)\n",
    "\n",
    "        # Output or further process the results (e.g., visualization, saving)\n",
    "        print(\"\\n\",best_ideal_df)\n",
    "\n",
    "    except Exception as e:\n",
    "        print(f\"An error occurred: {e}\")"
   ]
  },
  {
   "cell_type": "markdown",
   "metadata": {
    "id": "uIICmSqzXAct"
   },
   "source": [
    "## Mapping test data to ideal functions."
   ]
  },
  {
   "cell_type": "code",
   "execution_count": 6,
   "metadata": {
    "colab": {
     "base_uri": "https://localhost:8080/"
    },
    "id": "v_Dprb5iXEuj",
    "outputId": "64a4063b-54df-4ee0-9e99-ed921cf9e12b"
   },
   "outputs": [
    {
     "name": "stdout",
     "output_type": "stream",
     "text": [
      "\n",
      "Mapped Test Data:\n",
      "        x          y  ideal_function\n",
      "0   17.5  34.161040               0\n",
      "1    0.3   1.215102               1\n",
      "2   -8.7 -16.843908               2\n",
      "3  -19.2 -37.170870               3\n",
      "4  -11.0 -20.263054               0\n",
      "..   ...        ...             ...\n",
      "95  -1.9  -4.036904               3\n",
      "96  12.2  -0.010358               0\n",
      "97  16.5 -33.964134               1\n",
      "98   5.3 -10.291622               2\n",
      "99  17.9  28.078455               3\n",
      "\n",
      "[100 rows x 3 columns]\n"
     ]
    }
   ],
   "source": [
    "def map_test_data_to_ideal(test_df, best_ideal_df):\n",
    "    \"\"\"\n",
    "    Maps the test data to the ideal functions based on the best fit.\n",
    "    Replace this with your actual logic to map test data to ideal functions.\n",
    "\n",
    "    Args:\n",
    "        test_df (pd.DataFrame): Test data.\n",
    "        best_ideal_df (pd.DataFrame): DataFrame of the best fitting ideal functions for each training function\n",
    "\n",
    "    Returns:\n",
    "        pd.DataFrame: A DataFrame containing the mapped test data.\n",
    "    \"\"\"\n",
    "    mapped_test_data = test_df.copy()\n",
    "    # Add a column to indicate the assigned ideal function. In real-world scenarios, this would be determined by a more sophisticated method. Instead of directly assigning best_ideal_df.index, create a list of ideal function indices that repeats to match the length of the test_df\n",
    "    mapped_test_data['ideal_function'] = np.tile(best_ideal_df.index, len(test_df) // len(best_ideal_df.index) + 1)[:len(test_df)]\n",
    "    return mapped_test_data\n",
    "\n",
    "# Example usage (assuming 'best_ideal_df' is already computed)\n",
    "mapped_test_data = map_test_data_to_ideal(test_df, best_ideal_df)\n",
    "print(\"\\nMapped Test Data:\\n\", mapped_test_data)"
   ]
  },
  {
   "cell_type": "markdown",
   "metadata": {
    "id": "JtZjYWzjfFCN"
   },
   "source": [
    "##Visualizing data"
   ]
  },
  {
   "cell_type": "code",
   "execution_count": 7,
   "metadata": {
    "colab": {
     "base_uri": "https://localhost:8080/",
     "height": 1000
    },
    "id": "S7viwqcAvTWb",
    "outputId": "6290856b-b3f2-4950-8b12-08252103ea5e"
   },
   "outputs": [
    {
     "name": "stderr",
     "output_type": "stream",
     "text": [
      "BokehDeprecationWarning: 'circle() method with size value' was deprecated in Bokeh 3.4.0 and will be removed, use 'scatter(size=...) instead' instead.\n",
      "BokehDeprecationWarning: 'circle() method with size value' was deprecated in Bokeh 3.4.0 and will be removed, use 'scatter(size=...) instead' instead.\n",
      "BokehDeprecationWarning: 'circle() method with size value' was deprecated in Bokeh 3.4.0 and will be removed, use 'scatter(size=...) instead' instead.\n",
      "BokehDeprecationWarning: 'circle() method with size value' was deprecated in Bokeh 3.4.0 and will be removed, use 'scatter(size=...) instead' instead.\n"
     ]
    }
   ],
   "source": [
    "# Visualize the mapping of test data to ideal functions\n",
    "def visualize_mapping(test_df, ideal_df, mapped_test_data):\n",
    "    \"\"\"\n",
    "    Visualizes the mapping of test data to ideal functions.\n",
    "    \n",
    "    Args:\n",
    "        test_df (pd.DataFrame): Test data.\n",
    "        ideal_df (pd.DataFrame): Ideal data.\n",
    "        mapped_test_data (pd.DataFrame): Mapped test data with ideal function assignments.\n",
    "    \"\"\"\n",
    "    # Create a Bokeh figure\n",
    "    p = figure(title=\"Test Data Mapped to Ideal Functions\", \n",
    "               x_axis_label='x', \n",
    "               y_axis_label='y',\n",
    "               width=800, \n",
    "               height=600)\n",
    "    \n",
    "    # Get unique ideal functions\n",
    "    unique_ideal_functions = mapped_test_data['ideal_function'].unique()\n",
    "    \n",
    "    # Define colors for different ideal functions\n",
    "    colors = ['red', 'blue', 'green', 'orange', 'purple', 'brown', 'pink', 'gray', 'black', 'cyan']\n",
    "    \n",
    "    # Plot test data points colored by their assigned ideal function\n",
    "    for i, ideal_func in enumerate(unique_ideal_functions):\n",
    "        subset = mapped_test_data[mapped_test_data['ideal_function'] == ideal_func]\n",
    "        color = colors[i % len(colors)]\n",
    "        \n",
    "        # Plot test data points\n",
    "        p.circle(subset['x'], subset['y'], size=8, color=color, alpha=0.7, \n",
    "                 legend_label=f\"Test Data (Ideal {ideal_func})\")\n",
    "        \n",
    "        # Plot corresponding ideal function line\n",
    "        if isinstance(ideal_func, str) and ideal_func.startswith('y'):\n",
    "            p.line(ideal_df['x'], ideal_df[ideal_func], line_width=2, color=color, \n",
    "                   alpha=0.5, legend_label=f\"Ideal {ideal_func}\")\n",
    "    \n",
    "    # Configure legend\n",
    "    p.legend.location = \"top_left\"\n",
    "    p.legend.click_policy = \"hide\"\n",
    "    \n",
    "    # Show the plot\n",
    "    show(p)\n",
    "\n",
    "# Example usage (assuming all required variables are defined)\n",
    "visualize_mapping(test_df, ideal_df, mapped_test_data)"
   ]
  },
  {
   "cell_type": "code",
   "execution_count": null,
   "metadata": {},
   "outputs": [],
   "source": []
  }
 ],
 "metadata": {
  "colab": {
   "provenance": []
  },
  "kernelspec": {
   "display_name": "Python 3 (ipykernel)",
   "language": "python",
   "name": "python3"
  },
  "language_info": {
   "codemirror_mode": {
    "name": "ipython",
    "version": 3
   },
   "file_extension": ".py",
   "mimetype": "text/x-python",
   "name": "python",
   "nbconvert_exporter": "python",
   "pygments_lexer": "ipython3",
   "version": "3.13.0"
  }
 },
 "nbformat": 4,
 "nbformat_minor": 4
}
